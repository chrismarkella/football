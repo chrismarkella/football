{
 "cells": [
  {
   "cell_type": "code",
   "execution_count": 1,
   "metadata": {},
   "outputs": [],
   "source": [
    "import pandas as pd\n",
    "import numpy as np\n",
    "import os"
   ]
  },
  {
   "cell_type": "code",
   "execution_count": 2,
   "metadata": {},
   "outputs": [
    {
     "data": {
      "text/plain": [
       "['Untitled.ipynb',\n",
       " 'patientID.csv',\n",
       " 'interview-questions',\n",
       " 'test.csv',\n",
       " 'football.csv',\n",
       " 'ids_with_sublabels.csv',\n",
       " 'readme.md',\n",
       " 'min_difference.ipynb',\n",
       " 'parse_csv_test.py',\n",
       " 'weather.csv',\n",
       " 'finishing.py',\n",
       " 'parse_csv.py',\n",
       " '.ipynb_checkpoints',\n",
       " 'Admission.csv',\n",
       " '.git',\n",
       " 'playing.py']"
      ]
     },
     "execution_count": 2,
     "metadata": {},
     "output_type": "execute_result"
    }
   ],
   "source": [
    "os.listdir()"
   ]
  },
  {
   "cell_type": "code",
   "execution_count": 3,
   "metadata": {},
   "outputs": [
    {
     "data": {
      "text/plain": [
       "'weather.csv'"
      ]
     },
     "execution_count": 3,
     "metadata": {},
     "output_type": "execute_result"
    }
   ],
   "source": [
    "file_name = os.listdir()[9]\n",
    "file_name"
   ]
  },
  {
   "cell_type": "code",
   "execution_count": 17,
   "metadata": {},
   "outputs": [
    {
     "data": {
      "text/html": [
       "<div>\n",
       "<style scoped>\n",
       "    .dataframe tbody tr th:only-of-type {\n",
       "        vertical-align: middle;\n",
       "    }\n",
       "\n",
       "    .dataframe tbody tr th {\n",
       "        vertical-align: top;\n",
       "    }\n",
       "\n",
       "    .dataframe thead th {\n",
       "        text-align: right;\n",
       "    }\n",
       "</style>\n",
       "<table border=\"1\" class=\"dataframe\">\n",
       "  <thead>\n",
       "    <tr style=\"text-align: right;\">\n",
       "      <th></th>\n",
       "      <th>Day</th>\n",
       "      <th>MxT</th>\n",
       "      <th>MnT</th>\n",
       "      <th>AvT</th>\n",
       "      <th>AvDP</th>\n",
       "      <th>1HrP TPcpn</th>\n",
       "      <th>PDir</th>\n",
       "      <th>AvSp</th>\n",
       "      <th>Dir</th>\n",
       "      <th>MxS</th>\n",
       "      <th>SkyC</th>\n",
       "      <th>MxR</th>\n",
       "      <th>Mn</th>\n",
       "      <th>R AvSLP</th>\n",
       "    </tr>\n",
       "  </thead>\n",
       "  <tbody>\n",
       "    <tr>\n",
       "      <th>0</th>\n",
       "      <td>1</td>\n",
       "      <td>88</td>\n",
       "      <td>59</td>\n",
       "      <td>74</td>\n",
       "      <td>53.8</td>\n",
       "      <td>0</td>\n",
       "      <td>280</td>\n",
       "      <td>9.6</td>\n",
       "      <td>270</td>\n",
       "      <td>17</td>\n",
       "      <td>1.6</td>\n",
       "      <td>93</td>\n",
       "      <td>23</td>\n",
       "      <td>1004.5</td>\n",
       "    </tr>\n",
       "    <tr>\n",
       "      <th>1</th>\n",
       "      <td>2</td>\n",
       "      <td>79</td>\n",
       "      <td>63</td>\n",
       "      <td>71</td>\n",
       "      <td>46.5</td>\n",
       "      <td>0</td>\n",
       "      <td>330</td>\n",
       "      <td>8.7</td>\n",
       "      <td>340</td>\n",
       "      <td>23</td>\n",
       "      <td>3.3</td>\n",
       "      <td>70</td>\n",
       "      <td>28</td>\n",
       "      <td>1004.5</td>\n",
       "    </tr>\n",
       "    <tr>\n",
       "      <th>2</th>\n",
       "      <td>3</td>\n",
       "      <td>77</td>\n",
       "      <td>55</td>\n",
       "      <td>66</td>\n",
       "      <td>39.6</td>\n",
       "      <td>0</td>\n",
       "      <td>350</td>\n",
       "      <td>5.0</td>\n",
       "      <td>350</td>\n",
       "      <td>9</td>\n",
       "      <td>2.8</td>\n",
       "      <td>59</td>\n",
       "      <td>24</td>\n",
       "      <td>1016.8</td>\n",
       "    </tr>\n",
       "    <tr>\n",
       "      <th>3</th>\n",
       "      <td>4</td>\n",
       "      <td>77</td>\n",
       "      <td>59</td>\n",
       "      <td>68</td>\n",
       "      <td>51.1</td>\n",
       "      <td>0</td>\n",
       "      <td>110</td>\n",
       "      <td>9.1</td>\n",
       "      <td>130</td>\n",
       "      <td>12</td>\n",
       "      <td>8.6</td>\n",
       "      <td>62</td>\n",
       "      <td>40</td>\n",
       "      <td>1021.1</td>\n",
       "    </tr>\n",
       "    <tr>\n",
       "      <th>4</th>\n",
       "      <td>5</td>\n",
       "      <td>90</td>\n",
       "      <td>66</td>\n",
       "      <td>78</td>\n",
       "      <td>68.3</td>\n",
       "      <td>0</td>\n",
       "      <td>220</td>\n",
       "      <td>8.3</td>\n",
       "      <td>260</td>\n",
       "      <td>12</td>\n",
       "      <td>6.9</td>\n",
       "      <td>84</td>\n",
       "      <td>55</td>\n",
       "      <td>1014.4</td>\n",
       "    </tr>\n",
       "    <tr>\n",
       "      <th>5</th>\n",
       "      <td>6</td>\n",
       "      <td>81</td>\n",
       "      <td>61</td>\n",
       "      <td>71</td>\n",
       "      <td>63.7</td>\n",
       "      <td>0</td>\n",
       "      <td>30</td>\n",
       "      <td>6.2</td>\n",
       "      <td>30</td>\n",
       "      <td>13</td>\n",
       "      <td>9.7</td>\n",
       "      <td>93</td>\n",
       "      <td>60</td>\n",
       "      <td>1012.7</td>\n",
       "    </tr>\n",
       "    <tr>\n",
       "      <th>6</th>\n",
       "      <td>7</td>\n",
       "      <td>73</td>\n",
       "      <td>57</td>\n",
       "      <td>65</td>\n",
       "      <td>53.0</td>\n",
       "      <td>0</td>\n",
       "      <td>50</td>\n",
       "      <td>9.5</td>\n",
       "      <td>50</td>\n",
       "      <td>17</td>\n",
       "      <td>5.3</td>\n",
       "      <td>90</td>\n",
       "      <td>48</td>\n",
       "      <td>1021.8</td>\n",
       "    </tr>\n",
       "    <tr>\n",
       "      <th>7</th>\n",
       "      <td>8</td>\n",
       "      <td>75</td>\n",
       "      <td>54</td>\n",
       "      <td>65</td>\n",
       "      <td>50.0</td>\n",
       "      <td>0</td>\n",
       "      <td>160</td>\n",
       "      <td>4.2</td>\n",
       "      <td>150</td>\n",
       "      <td>10</td>\n",
       "      <td>2.6</td>\n",
       "      <td>93</td>\n",
       "      <td>41</td>\n",
       "      <td>1026.3</td>\n",
       "    </tr>\n",
       "    <tr>\n",
       "      <th>8</th>\n",
       "      <td>9</td>\n",
       "      <td>86</td>\n",
       "      <td>32</td>\n",
       "      <td>59</td>\n",
       "      <td>61.5</td>\n",
       "      <td>0</td>\n",
       "      <td>240</td>\n",
       "      <td>7.6</td>\n",
       "      <td>220</td>\n",
       "      <td>12</td>\n",
       "      <td>6.0</td>\n",
       "      <td>78</td>\n",
       "      <td>46</td>\n",
       "      <td>1018.6</td>\n",
       "    </tr>\n",
       "    <tr>\n",
       "      <th>9</th>\n",
       "      <td>10</td>\n",
       "      <td>84</td>\n",
       "      <td>64</td>\n",
       "      <td>74</td>\n",
       "      <td>57.5</td>\n",
       "      <td>0</td>\n",
       "      <td>210</td>\n",
       "      <td>6.6</td>\n",
       "      <td>50</td>\n",
       "      <td>9</td>\n",
       "      <td>3.4</td>\n",
       "      <td>84</td>\n",
       "      <td>40</td>\n",
       "      <td>1019.0</td>\n",
       "    </tr>\n",
       "    <tr>\n",
       "      <th>10</th>\n",
       "      <td>11</td>\n",
       "      <td>91</td>\n",
       "      <td>59</td>\n",
       "      <td>75</td>\n",
       "      <td>66.3</td>\n",
       "      <td>0</td>\n",
       "      <td>250</td>\n",
       "      <td>7.1</td>\n",
       "      <td>230</td>\n",
       "      <td>12</td>\n",
       "      <td>2.5</td>\n",
       "      <td>93</td>\n",
       "      <td>45</td>\n",
       "      <td>1012.6</td>\n",
       "    </tr>\n",
       "    <tr>\n",
       "      <th>11</th>\n",
       "      <td>12</td>\n",
       "      <td>88</td>\n",
       "      <td>73</td>\n",
       "      <td>81</td>\n",
       "      <td>68.7</td>\n",
       "      <td>0</td>\n",
       "      <td>250</td>\n",
       "      <td>8.1</td>\n",
       "      <td>270</td>\n",
       "      <td>21</td>\n",
       "      <td>7.9</td>\n",
       "      <td>94</td>\n",
       "      <td>51</td>\n",
       "      <td>1007.0</td>\n",
       "    </tr>\n",
       "    <tr>\n",
       "      <th>12</th>\n",
       "      <td>13</td>\n",
       "      <td>70</td>\n",
       "      <td>59</td>\n",
       "      <td>65</td>\n",
       "      <td>55.0</td>\n",
       "      <td>0</td>\n",
       "      <td>150</td>\n",
       "      <td>3.0</td>\n",
       "      <td>150</td>\n",
       "      <td>8</td>\n",
       "      <td>10.0</td>\n",
       "      <td>83</td>\n",
       "      <td>59</td>\n",
       "      <td>1012.6</td>\n",
       "    </tr>\n",
       "    <tr>\n",
       "      <th>13</th>\n",
       "      <td>14</td>\n",
       "      <td>61</td>\n",
       "      <td>59</td>\n",
       "      <td>60</td>\n",
       "      <td>55.9</td>\n",
       "      <td>0</td>\n",
       "      <td>60</td>\n",
       "      <td>6.7</td>\n",
       "      <td>80</td>\n",
       "      <td>9</td>\n",
       "      <td>10.0</td>\n",
       "      <td>93</td>\n",
       "      <td>87</td>\n",
       "      <td>1008.6</td>\n",
       "    </tr>\n",
       "    <tr>\n",
       "      <th>14</th>\n",
       "      <td>15</td>\n",
       "      <td>64</td>\n",
       "      <td>55</td>\n",
       "      <td>60</td>\n",
       "      <td>54.9</td>\n",
       "      <td>0</td>\n",
       "      <td>40</td>\n",
       "      <td>4.3</td>\n",
       "      <td>200</td>\n",
       "      <td>7</td>\n",
       "      <td>9.6</td>\n",
       "      <td>96</td>\n",
       "      <td>70</td>\n",
       "      <td>1006.1</td>\n",
       "    </tr>\n",
       "  </tbody>\n",
       "</table>\n",
       "</div>"
      ],
      "text/plain": [
       "    Day  MxT  MnT  AvT  AvDP  1HrP TPcpn  PDir  AvSp  Dir  MxS  SkyC  MxR  Mn  \\\n",
       "0     1   88   59   74  53.8           0   280   9.6  270   17   1.6   93  23   \n",
       "1     2   79   63   71  46.5           0   330   8.7  340   23   3.3   70  28   \n",
       "2     3   77   55   66  39.6           0   350   5.0  350    9   2.8   59  24   \n",
       "3     4   77   59   68  51.1           0   110   9.1  130   12   8.6   62  40   \n",
       "4     5   90   66   78  68.3           0   220   8.3  260   12   6.9   84  55   \n",
       "5     6   81   61   71  63.7           0    30   6.2   30   13   9.7   93  60   \n",
       "6     7   73   57   65  53.0           0    50   9.5   50   17   5.3   90  48   \n",
       "7     8   75   54   65  50.0           0   160   4.2  150   10   2.6   93  41   \n",
       "8     9   86   32   59  61.5           0   240   7.6  220   12   6.0   78  46   \n",
       "9    10   84   64   74  57.5           0   210   6.6   50    9   3.4   84  40   \n",
       "10   11   91   59   75  66.3           0   250   7.1  230   12   2.5   93  45   \n",
       "11   12   88   73   81  68.7           0   250   8.1  270   21   7.9   94  51   \n",
       "12   13   70   59   65  55.0           0   150   3.0  150    8  10.0   83  59   \n",
       "13   14   61   59   60  55.9           0    60   6.7   80    9  10.0   93  87   \n",
       "14   15   64   55   60  54.9           0    40   4.3  200    7   9.6   96  70   \n",
       "\n",
       "    R AvSLP  \n",
       "0    1004.5  \n",
       "1    1004.5  \n",
       "2    1016.8  \n",
       "3    1021.1  \n",
       "4    1014.4  \n",
       "5    1012.7  \n",
       "6    1021.8  \n",
       "7    1026.3  \n",
       "8    1018.6  \n",
       "9    1019.0  \n",
       "10   1012.6  \n",
       "11   1007.0  \n",
       "12   1012.6  \n",
       "13   1008.6  \n",
       "14   1006.1  "
      ]
     },
     "execution_count": 17,
     "metadata": {},
     "output_type": "execute_result"
    }
   ],
   "source": [
    "df = pd.read_csv(file_name)\n",
    "df.head(15)"
   ]
  },
  {
   "cell_type": "code",
   "execution_count": 7,
   "metadata": {},
   "outputs": [
    {
     "data": {
      "text/plain": [
       "0     29\n",
       "1     16\n",
       "2     22\n",
       "3     18\n",
       "4     24\n",
       "5     20\n",
       "6     16\n",
       "7     21\n",
       "8     54\n",
       "9     20\n",
       "10    32\n",
       "11    15\n",
       "12    11\n",
       "13     2\n",
       "14     9\n",
       "15    20\n",
       "16    24\n",
       "17    30\n",
       "18    20\n",
       "19    27\n",
       "20    27\n",
       "21    26\n",
       "22    22\n",
       "23    13\n",
       "24    18\n",
       "25    33\n",
       "26    19\n",
       "27    16\n",
       "28    22\n",
       "29    45\n",
       "dtype: int64"
      ]
     },
     "execution_count": 7,
     "metadata": {},
     "output_type": "execute_result"
    }
   ],
   "source": [
    "abs(df.MxT - df.MnT)"
   ]
  },
  {
   "cell_type": "code",
   "execution_count": 9,
   "metadata": {},
   "outputs": [
    {
     "data": {
      "text/plain": [
       "13"
      ]
     },
     "execution_count": 9,
     "metadata": {},
     "output_type": "execute_result"
    }
   ],
   "source": [
    "min_abs_difference = abs(df.MxT - df.MnT).idxmin()\n",
    "min_abs_difference"
   ]
  },
  {
   "cell_type": "code",
   "execution_count": 10,
   "metadata": {},
   "outputs": [
    {
     "data": {
      "text/plain": [
       "14"
      ]
     },
     "execution_count": 10,
     "metadata": {},
     "output_type": "execute_result"
    }
   ],
   "source": [
    "df.iloc[min_abs_difference, 0]"
   ]
  },
  {
   "cell_type": "code",
   "execution_count": 11,
   "metadata": {},
   "outputs": [
    {
     "data": {
      "text/plain": [
       "Index(['Day', 'MxT', 'MnT', 'AvT', 'AvDP', '1HrP TPcpn', 'PDir', 'AvSp', 'Dir',\n",
       "       'MxS', 'SkyC', 'MxR', 'Mn', 'R AvSLP'],\n",
       "      dtype='object')"
      ]
     },
     "execution_count": 11,
     "metadata": {},
     "output_type": "execute_result"
    }
   ],
   "source": [
    "df.columns"
   ]
  },
  {
   "cell_type": "code",
   "execution_count": 12,
   "metadata": {},
   "outputs": [
    {
     "data": {
      "text/plain": [
       "0     88\n",
       "1     79\n",
       "2     77\n",
       "3     77\n",
       "4     90\n",
       "5     81\n",
       "6     73\n",
       "7     75\n",
       "8     86\n",
       "9     84\n",
       "10    91\n",
       "11    88\n",
       "12    70\n",
       "13    61\n",
       "14    64\n",
       "15    79\n",
       "16    81\n",
       "17    82\n",
       "18    81\n",
       "19    84\n",
       "20    86\n",
       "21    90\n",
       "22    90\n",
       "23    90\n",
       "24    90\n",
       "25    97\n",
       "26    91\n",
       "27    84\n",
       "28    88\n",
       "29    90\n",
       "Name: MxT, dtype: int64"
      ]
     },
     "execution_count": 12,
     "metadata": {},
     "output_type": "execute_result"
    }
   ],
   "source": [
    "df.iloc[:, 1]"
   ]
  },
  {
   "cell_type": "code",
   "execution_count": 18,
   "metadata": {},
   "outputs": [
    {
     "data": {
      "text/plain": [
       "14"
      ]
     },
     "execution_count": 18,
     "metadata": {},
     "output_type": "execute_result"
    }
   ],
   "source": [
    "def min_abs_difference(df, col1, col2, result_col):\n",
    "    max_column = df.iloc[:, col1]\n",
    "    min_column = df.iloc[:, col2]\n",
    "    \n",
    "    min_abs_difference_index = abs(max_column - min_column).idxmin()\n",
    "    \n",
    "    return df.iloc[min_abs_difference_index, result_col]\n",
    "\n",
    "min_abs_difference(df, 1, 2, 0)"
   ]
  },
  {
   "cell_type": "code",
   "execution_count": 20,
   "metadata": {},
   "outputs": [
    {
     "data": {
      "text/plain": [
       "'.'"
      ]
     },
     "execution_count": 20,
     "metadata": {},
     "output_type": "execute_result"
    }
   ],
   "source": [
    "os.curdir"
   ]
  },
  {
   "cell_type": "code",
   "execution_count": 21,
   "metadata": {},
   "outputs": [
    {
     "name": "stdout",
     "output_type": "stream",
     "text": [
      "Admission.csv          \u001b[34minterview-questions\u001b[m\u001b[m    playing.py\r\n",
      "Untitled.ipynb         min_difference.ipynb   readme.md\r\n",
      "finishing.py           parse_csv.py           test.csv\r\n",
      "football.csv           parse_csv_test.py      weather.csv\r\n",
      "ids_with_sublabels.csv patientID.csv\r\n"
     ]
    }
   ],
   "source": [
    "!ls"
   ]
  },
  {
   "cell_type": "code",
   "execution_count": 22,
   "metadata": {},
   "outputs": [
    {
     "name": "stdout",
     "output_type": "stream",
     "text": [
      "/Users/marianamarkella/Desktop/SJSU/interview_prep/real_python/interview_question/interview-questions/parsing-data\r\n"
     ]
    }
   ],
   "source": [
    "!pwd"
   ]
  },
  {
   "cell_type": "code",
   "execution_count": null,
   "metadata": {},
   "outputs": [],
   "source": []
  }
 ],
 "metadata": {
  "kernelspec": {
   "display_name": "Python 3",
   "language": "python",
   "name": "python3"
  },
  "language_info": {
   "codemirror_mode": {
    "name": "ipython",
    "version": 3
   },
   "file_extension": ".py",
   "mimetype": "text/x-python",
   "name": "python",
   "nbconvert_exporter": "python",
   "pygments_lexer": "ipython3",
   "version": "3.7.3"
  }
 },
 "nbformat": 4,
 "nbformat_minor": 2
}
